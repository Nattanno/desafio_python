{
  "nbformat": 4,
  "nbformat_minor": 0,
  "metadata": {
    "colab": {
      "provenance": [],
      "authorship_tag": "ABX9TyNYuKlgtdB63sXspyjAVGNc",
      "include_colab_link": true
    },
    "kernelspec": {
      "name": "python3",
      "display_name": "Python 3"
    },
    "language_info": {
      "name": "python"
    }
  },
  "cells": [
    {
      "cell_type": "markdown",
      "metadata": {
        "id": "view-in-github",
        "colab_type": "text"
      },
      "source": [
        "<a href=\"https://colab.research.google.com/github/Nattanno/desafio_python/blob/main/Exercicios.ipynb\" target=\"_parent\"><img src=\"https://colab.research.google.com/assets/colab-badge.svg\" alt=\"Open In Colab\"/></a>"
      ]
    },
    {
      "cell_type": "markdown",
      "source": [
        "001- Crie um programa que escreva \"Olá mundo!\" na tela."
      ],
      "metadata": {
        "id": "QNbbwzpVQEmA"
      }
    },
    {
      "cell_type": "code",
      "execution_count": null,
      "metadata": {
        "id": "h0nRjEvbPpRK"
      },
      "outputs": [],
      "source": [
        "print(\"Olá mundo!\")"
      ]
    },
    {
      "cell_type": "markdown",
      "source": [
        "002-"
      ],
      "metadata": {
        "id": "7PcBlPhhR1tH"
      }
    },
    {
      "cell_type": "code",
      "source": [
        "nome = input(\"Qual o seu nome? \")\n",
        "print(f'Olá, {nome}! É um prazer em te conhecer! ')"
      ],
      "metadata": {
        "id": "mX_xMftRR26M"
      },
      "execution_count": null,
      "outputs": []
    },
    {
      "cell_type": "markdown",
      "source": [
        "003-"
      ],
      "metadata": {
        "id": "8Wm7yXveIGmU"
      }
    },
    {
      "cell_type": "code",
      "source": [
        "soma_1 = float(input('Insira um número: '))\n",
        "soma_2 = float(input('Insira o segundo número: '))\n",
        "\n",
        "#aqui vamos obter a multiplicação dos dois numero obtidos\n",
        "\n",
        "resultado = soma_1 * soma_2\n",
        "print('A multiplicação entre {}'.format(soma_1), 'e {}'.format(soma_2), 'é {}'.format(resultado))\n",
        "print('A multiplicaçao entre {} e {}, é {}'.format(soma_1, soma_2, resultado))\n",
        "#{0}, {1}, {2}.\n",
        "\n",
        "#aqui vamos obter o resultado e diminuir por 50\n",
        "\n",
        "resultado2 = resultado - 50\n",
        "print('O resultado subtraído por 50 será {}'.format(resultado2))\n",
        "\n",
        "#aqui vamos dividir por um numero inteiro\n",
        "valor = int(input('digite o valor que será dividido pelo resultado obtido: '))\n",
        "\n",
        "resultado3 = resultado2 / valor\n",
        "print('O resultado final vai ser igual á: {}'.format(resultado3))\n"
      ],
      "metadata": {
        "id": "a1DFW0Mlahkv"
      },
      "execution_count": null,
      "outputs": []
    },
    {
      "cell_type": "markdown",
      "source": [
        "004"
      ],
      "metadata": {
        "id": "-DMU-Ysle2WT"
      }
    },
    {
      "cell_type": "code",
      "source": [
        "alnum = input('insira algum caractere (A1!.): ')\n",
        "\n",
        "print('o tipo primitivo é: ', type(alnum))\n",
        "print(alnum.isnumeric()) #se ele é um numero\n",
        "print(alnum.isupper()) #se ele esta em maiusculo\n",
        "print(alnum.islower()) #se ele esta minusculo\n",
        "print(alnum.isalpha()) #se ele é uma letra\n",
        "print(alnum.isalnum()) #se ele é um numero ou letra\n",
        "print(alnum.isspace()) #se ele contém espaço\n",
        "print(alnum.istitle()) #se ele é um titulo\n",
        "print(alnum.isprintable()) #se ele é uma mensagem\n",
        "print(alnum.isdigit()) #se ele é um digito\n",
        "print(alnum.isidentifier()) #se ele pode ser identificado\n",
        "print(alnum.isdecimal())#se ele contem um decimal\n",
        "print(alnum.isascii()) #checa se a String é um ASCII,(American Standard Code for Information Interchange) é um código de 7 bits, portanto possui 128 possíveis combinações (valores de 0 a 127).\n"
      ],
      "metadata": {
        "id": "3LzEKze9fIHt"
      },
      "execution_count": null,
      "outputs": []
    },
    {
      "cell_type": "markdown",
      "source": [
        "conhecimento"
      ],
      "metadata": {
        "id": "8hL9RpOqo1g8"
      }
    },
    {
      "cell_type": "code",
      "source": [
        "nome = str(input('qual o seu nome?'))\n",
        "print('é um prazer em conhecer, {:^20}!'.format(nome))"
      ],
      "metadata": {
        "id": "8az_hkZXo0rE"
      },
      "execution_count": null,
      "outputs": []
    },
    {
      "cell_type": "code",
      "source": [
        "n1 = int(input('insira um valor: '))\n",
        "n2 = int(input('insira outro valor: '))\n",
        "a = n1 + n2\n",
        "m = n1 * n2\n",
        "s = n1 - n2\n",
        "d = n1 / n2\n",
        "di = n1 // n2\n",
        "e = n1 ** n2\n",
        "rd = n1 % n2\n",
        "print('a soma é {}, \\n o produto é {}, a subtração é {},\\n e a divisao é {:.3f}'.format(a, m, s, d), end='')\n",
        "print(' e divisao inteira é {}, e exponencial é {}, e o resto é {}'.format(di, e, rd))"
      ],
      "metadata": {
        "id": "2AGxaVp2vH3C"
      },
      "execution_count": null,
      "outputs": []
    },
    {
      "cell_type": "markdown",
      "source": [
        "005 - Faça um programa que leia um numero inteiro e mostre na tela o seu sucessor e seu antecessor:"
      ],
      "metadata": {
        "id": "DxVTGnsMy1oS"
      }
    },
    {
      "cell_type": "code",
      "source": [
        "n1 = int(input('indique um valor: '))\n",
        "s1 = n1 + 1\n",
        "s2 = n1 - 1\n",
        "print(f' o numero em que foi inserido {n1}, \\n o sucessor deste número é: {s1} \\n e o antecessor deste número é: {s2}')"
      ],
      "metadata": {
        "id": "0chT7C4uzCUc"
      },
      "execution_count": null,
      "outputs": []
    },
    {
      "cell_type": "markdown",
      "source": [
        " 006 - Crie um algoritimo que leia um número inteiro e mostre o seu dobro, triplo e a raiz quadrada:\n",
        "\n"
      ],
      "metadata": {
        "id": "HScnmOKm0HR0"
      }
    },
    {
      "cell_type": "code",
      "source": [
        "n1 = int(input('cite um número qualquer: '))\n",
        "r1 = n1 * 2\n",
        "r2 = n1 * 3\n",
        "r3 = n1 ** (1/2)\n",
        "print(f'O numero inteiro é: {n1} \\n o dobro dele é {r1} \\n o triplo dele será {r2} \\n e a raiz quadrada é {r3}')"
      ],
      "metadata": {
        "id": "slQp5G8k0iE4"
      },
      "execution_count": null,
      "outputs": []
    },
    {
      "cell_type": "markdown",
      "source": [
        "007 - Desenvolva um programa que leia as duas notas de um aluno, calcule e mostre sua média"
      ],
      "metadata": {
        "id": "XOg5cIJv6YBk"
      }
    },
    {
      "cell_type": "code",
      "source": [
        "nota1 = float(input('Qual foi a primeira nota tirada pelo aluno? '))\n",
        "nota2 = float(input('Qual foi a segunda nota tirada pelo aluno? '))\n",
        "\n",
        "re1 = nota1 + nota2\n",
        "re2 = re1 / 2\n",
        "\n",
        "print(f'A média desse aluno será : {re2}')"
      ],
      "metadata": {
        "id": "q0XhnoIW7Bic"
      },
      "execution_count": null,
      "outputs": []
    },
    {
      "cell_type": "markdown",
      "source": [
        "008 - Escreva um programa que leia um valor em metros e o exiba convertido em centímetros e em milimetros:"
      ],
      "metadata": {
        "id": "qhvPsvx88dI4"
      }
    },
    {
      "cell_type": "code",
      "source": [
        "metros = float(input('Quantos metros você deseja? '))\n",
        "\n",
        "m_em_cm = metros * 100\n",
        "m_em_mm = metros * 1000\n",
        "\n",
        "print(f'a conversão de metros para centímetro fica: {m_em_cm} cm \\n E metros para milimetros fica: {m_em_mm} mm')"
      ],
      "metadata": {
        "id": "CzSxtNGq8_AB"
      },
      "execution_count": null,
      "outputs": []
    },
    {
      "cell_type": "markdown",
      "source": [
        "009 - Faça um programa que leia um número inteiro qualquer e mostre tela a sua tabuada"
      ],
      "metadata": {
        "id": "NkRscgwA--hR"
      }
    },
    {
      "cell_type": "code",
      "source": [
        "ni = int(input('Qual número você gostaria de saber sua tabuada? '))\n",
        "\n",
        "t1 = ni * 1\n",
        "t2 = ni * 2\n",
        "t3 = ni * 3\n",
        "t4 = ni * 4\n",
        "t5 = ni * 5\n",
        "t6 = ni * 6\n",
        "t7 = ni * 7\n",
        "t8 = ni * 8\n",
        "t9 = ni * 9\n",
        "t10 = ni * 10\n",
        "\n",
        "print(f' A tabuada de {ni} é: ')\n",
        "print(f'{ni} x 1 = {t1} \\n {ni} x 2 = {t2} \\n {ni} x 3 = {t3} \\n {ni} x 4 = {t4} \\n {ni} x 5 = {t5} \\n {ni} x 6 = {t6} \\n {ni} x 7 = {t7} \\n {ni} x 8 = {t8} \\n {ni} x 9 = {t9} \\n {ni} x 10 = {t10}'\n",
        ")"
      ],
      "metadata": {
        "id": "B9sWPyPy_PW4"
      },
      "execution_count": null,
      "outputs": []
    },
    {
      "cell_type": "markdown",
      "source": [
        "010 - Crie um programa que leia quanto dinheiro uma pessoa tem na carteira e mostre quantos dólares ela pode comprar.\n",
        "Considere\n",
        "U$1,00 = R$3,27"
      ],
      "metadata": {
        "id": "cKpfFt1OCzRU"
      }
    },
    {
      "cell_type": "code",
      "source": [
        "reais = float(input('Quantos reais você gostaria de converter? '))\n",
        "\n",
        "#Aqui vai ficar o cálculo da conversão\n",
        "valor_convertido = reais / 3.27\n",
        "\n",
        "print(f'Você vai ficar com U$ {valor_convertido:.2f} Dólares')"
      ],
      "metadata": {
        "colab": {
          "base_uri": "https://localhost:8080/"
        },
        "id": "s1nSvpl0DzTe",
        "outputId": "afe3b8fc-18be-430e-d791-1a301e100e41"
      },
      "execution_count": 31,
      "outputs": [
        {
          "output_type": "stream",
          "name": "stdout",
          "text": [
            "Quantos reais você gostaria de converter? 100\n",
            "Você vai ficar com U$ 30.58 Dólares\n"
          ]
        }
      ]
    },
    {
      "cell_type": "markdown",
      "source": [
        "011 - Faça um programa que leia a largura e a altura de uma parede em metros, calcule sua área e a quantidade de tinta necessária para pintá-lo, sabendo que cada litro de tinta, pinta uma área de 2m^2:"
      ],
      "metadata": {
        "id": "_X0VUJimD0uf"
      }
    },
    {
      "cell_type": "code",
      "source": [
        "#Aqui sera a largura da parede\n",
        "largura = float(input('Quantos metros de largura tem sua parede? '))\n",
        "\n",
        "#Aqui sera a altura da parede\n",
        "altura = float(input('Quanto metros de altura tem sua parede? '))\n",
        "\n",
        "#Aqui vamos obter o primeiro resultado da l x a\n",
        "area = largura * altura\n",
        "print(f'A área de sua parede é {area:.2f} metros quadrados')\n",
        "\n",
        "#Aqui sera a quantidade de litros de tinta que vamos utilizar para o total da area da parede\n",
        "litros_de_tinta = area / 2\n",
        "print(f'vai ser necessária {litros_de_tinta:.2f} litros de tinta para pintar o total de {area:.2f} metros quadrados')"
      ],
      "metadata": {
        "id": "9_cXzC_LEqIR"
      },
      "execution_count": null,
      "outputs": []
    },
    {
      "cell_type": "markdown",
      "source": [
        "012 - Faça um algoritimo que leia o preço de um produto e mostre seu novo preço, com 5% de desconto:"
      ],
      "metadata": {
        "id": "pzH6PAqMEqgO"
      }
    },
    {
      "cell_type": "code",
      "source": [
        "#Aqui vai ter o valor do produto do supermercado\n",
        "valor_do_produto = float(input('O valor do seu produto deu R$ '))\n",
        "\n",
        "#Aqui ele vai obter seu desconto de 5%\n",
        "valor_com_desconto = valor_do_produto * (5/100)\n",
        "valor_que_foi_descontado = valor_do_produto - valor_com_desconto\n",
        "\n",
        "print(f'Você teve um desconto de R$ {valor_com_desconto:.2f} totalizando sua compra em R$ {valor_que_foi_descontado}')"
      ],
      "metadata": {
        "id": "fFMTjE9LFNpA"
      },
      "execution_count": null,
      "outputs": []
    },
    {
      "cell_type": "markdown",
      "source": [
        "013 - faça um algoritimo que leia o sálario de um funcionário e mostre seu novo salário, com 15% de aumento:"
      ],
      "metadata": {
        "id": "y_ReF82iFN6f"
      }
    },
    {
      "cell_type": "code",
      "source": [
        "#vamos obter o salario do funcionario primeiro\n",
        "\n",
        "salario_de_um_funcionario = float(input('O salário de um funcionário é de R$ '))\n",
        "\n",
        "#aqui é o salario dele com os 15% de aumento\n",
        "\n",
        "aumento = salario_de_um_funcionario * (15/100)\n",
        "quanto_aumentou = aumento + salario_de_um_funcionario\n",
        "\n",
        "#aqui vamos ver o quanto aumentou\n",
        "\n",
        "print(f'O funcionário teve um aumento de R$ {aumento:.2f} no salário dele, totalizando um valor de R$ {quanto_aumentou:.2f}')"
      ],
      "metadata": {
        "id": "rDH1tgbyFgPv"
      },
      "execution_count": null,
      "outputs": []
    }
  ]
}